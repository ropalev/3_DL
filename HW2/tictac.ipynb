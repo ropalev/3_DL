{
 "cells": [
  {
   "cell_type": "code",
   "execution_count": 145,
   "metadata": {
    "colab": {
     "base_uri": "https://localhost:8080/"
    },
    "executionInfo": {
     "elapsed": 2504,
     "status": "ok",
     "timestamp": 1608249308858,
     "user": {
      "displayName": "Владимир Клюенков",
      "photoUrl": "https://lh3.googleusercontent.com/a-/AOh14Gi3E1jmbRKzdL-W8NcGqk0e4Qwyp3I42q-L5f7oRw=s64",
      "userId": "00734268605265697696"
     },
     "user_tz": -180
    },
    "id": "_G54uoglgKIr",
    "outputId": "c935b122-a1c1-489b-8523-157913266763"
   },
   "outputs": [],
   "source": [
    "import gym\n",
    "import matplotlib as mpl\n",
    "import matplotlib.pyplot as plt\n",
    "import json\n",
    "import random\n",
    "from tqdm import tqdm\n",
    "import copy\n",
    "from tictactoe_env import *"
   ]
  },
  {
   "cell_type": "markdown",
   "metadata": {},
   "source": [
    "# Часть первая: крестики-нолики при помощи Q-обучения"
   ]
  },
  {
   "cell_type": "code",
   "execution_count": 146,
   "metadata": {
    "id": "iPeGRhmuvldz"
   },
   "outputs": [],
   "source": [
    "class AgentRandom:\n",
    "    def explotation_action(self, state, actions=None, env=None):\n",
    "        return env.getEmptySpaces()[np.random.randint(np.sum(np.array(list(state)) == '1') if not actions else actions)]\n",
    "\n",
    "def cacucate_winrates(env, agent_1, agent_2, games=10000,prt=False):\n",
    "    crosses_wins = 0\n",
    "    zeros_wins = 0\n",
    "    for episode in tqdm(range(games)):\n",
    "        done = False\n",
    "        env.reset()\n",
    "        while not done:\n",
    "            s, actions = env.getHash(), env.getEmptySpaces()\n",
    "            if env.curTurn == 1:\n",
    "                action = agent_1.explotation_action(s, len(actions), env=env)\n",
    "            else:\n",
    "                action = agent_2.explotation_action(''.join([str(2 - int(n)) for n in s]), len(actions), env=env)\n",
    "            _, reward, done, _ = env.step(action)\n",
    "\n",
    "        if reward == 1:\n",
    "            crosses_wins += 1\n",
    "        elif reward == -1:\n",
    "            zeros_wins += 1      \n",
    "    crosses_winrate = crosses_wins / games\n",
    "    zeros_winrate = zeros_wins / games\n",
    "    if prt:\n",
    "        print(\"Winrate agent(cross): \", crosses_winrate)\n",
    "        print(\"Winrate agent(zeros): \", zeros_winrate)\n",
    "    return crosses_winrate, zeros_winrate"
   ]
  },
  {
   "cell_type": "code",
   "execution_count": 147,
   "metadata": {
    "colab": {
     "base_uri": "https://localhost:8080/"
    },
    "executionInfo": {
     "elapsed": 8715,
     "status": "ok",
     "timestamp": 1608249326995,
     "user": {
      "displayName": "Владимир Клюенков",
      "photoUrl": "https://lh3.googleusercontent.com/a-/AOh14Gi3E1jmbRKzdL-W8NcGqk0e4Qwyp3I42q-L5f7oRw=s64",
      "userId": "00734268605265697696"
     },
     "user_tz": -180
    },
    "id": "lzMBfzW__JtD",
    "outputId": "da2841e6-a613-49ba-c1a9-b5693f35c5f9"
   },
   "outputs": [
    {
     "name": "stderr",
     "output_type": "stream",
     "text": [
      "100%|██████████| 1000/1000 [00:00<00:00, 2345.28it/s]\n"
     ]
    }
   ],
   "source": [
    "env = TicTacToe(n_rows=3, n_cols=3, n_win=3)\n",
    "crosses_winrate, zeros_winrate = cacucate_winrates(env,\n",
    "                                                    AgentRandom(), \n",
    "                                                    AgentRandom(),\n",
    "                                                    games=1000,\n",
    "                                                  )"
   ]
  },
  {
   "cell_type": "code",
   "execution_count": 4,
   "metadata": {},
   "outputs": [
    {
     "name": "stdout",
     "output_type": "stream",
     "text": [
      "Cross winrate:  0.571\n",
      "Zeros winrate:  0.285\n"
     ]
    }
   ],
   "source": [
    "print(\"Cross winrate: \", crosses_winrate)\n",
    "print(\"Zeros winrate: \", zeros_winrate)"
   ]
  },
  {
   "cell_type": "markdown",
   "metadata": {
    "id": "nWWcY5k0buJG"
   },
   "source": [
    "### 1. Реализуйте обычное (табличное) Q-обучение. Обучите стратегии крестиков и ноликов для доски 3х3."
   ]
  },
  {
   "cell_type": "markdown",
   "metadata": {
    "id": "MFBdOwzF05qx"
   },
   "source": [
    "Для агента конкурентная среда (как минимум против сслучайного агента) выглядит стохастической, при этом вариативность огромна, поэтому сделаем предположение что нужно много exploration."
   ]
  },
  {
   "cell_type": "code",
   "execution_count": 14,
   "metadata": {
    "id": "f-lVXm18mD9_"
   },
   "outputs": [],
   "source": [
    "class AgentQ():\n",
    "    def __init__(self, alpha=0.1, gamma=1.):\n",
    "        self.Q = {}\n",
    "        self.alpha = alpha\n",
    "        self.gamma = gamma\n",
    "             \n",
    "    def get_Q(self, state, n_actions=None):\n",
    "        if state not in self.Q:\n",
    "            if n_actions is None:\n",
    "                n_actions = np.sum(np.array(list(state)) == '1')\n",
    "            self.Q[state] = np.ones(n_actions) * 0.01\n",
    "        return self.Q[state]       \n",
    "\n",
    "\n",
    "    def get_maxQ(self, state):\n",
    "        return np.max(self.get_Q(state))\n",
    "    \n",
    "    \n",
    "    def update(self, state, n_action, reward, next_state):\n",
    "        Q = self.get_Q(state)[n_action]\n",
    "        V = self.get_maxQ(next_state) if next_state else 0\n",
    "        self.Q[state][n_action] = Q + self.alpha * (reward + self.gamma * V - Q)\n",
    "\n",
    "        \n",
    "    def get_action(self, state, epsilon, n_actions=None):\n",
    "        if np.random.random() > epsilon:\n",
    "            return self.explotation_action_(state, n_actions)\n",
    "        else:\n",
    "            if n_actions is None:\n",
    "                n_actions = np.sum(np.array(list(state)) == '1')\n",
    "            return np.random.randint(n_actions)\n",
    "        \n",
    "\n",
    "    def explotation_action_(self, state, n_actions=None, env=None):\n",
    "        return np.argmax(self.get_Q(state, n_actions))\n",
    "    \n",
    "\n",
    "    def explotation_action(self, state, n_actions=None, env=None):\n",
    "        return env.getEmptySpaces()[np.argmax(self.get_Q(state, n_actions))]"
   ]
  },
  {
   "cell_type": "code",
   "execution_count": 15,
   "metadata": {
    "id": "guk8QCwZrRml"
   },
   "outputs": [],
   "source": [
    "def train(env, \n",
    "             agent_to_train, agent_opponent_for_validation,\n",
    "             epsilon_start=0.5, epsilon_min= 0.1 , epsilon_decay=0.999,\n",
    "             train_episodes=100000, eval_episodes = 1000, eval_period = 10000):\n",
    "    crosses_winrates = []\n",
    "    zeros_winrates = []\n",
    "    epsilon = epsilon_start\n",
    "\n",
    "    for i in tqdm(range(train_episodes)):\n",
    "        epsilon = max(epsilon*epsilon_decay, epsilon_min) \n",
    "        if i % eval_period == 0:\n",
    "            crosses_winrate, zeros_winrate = cacucate_winrates(env, agent_to_train, agent_opponent_for_validation, games=eval_episodes)\n",
    "            crosses_winrates.append((i, crosses_winrate))\n",
    "            crosses_winrate, zeros_winrate = cacucate_winrates(env, agent_opponent_for_validation, agent_to_train, games=eval_episodes)\n",
    "            zeros_winrates.append((i, zeros_winrate))\n",
    "        done = False\n",
    "        env.reset()\n",
    "        prev_state, prev_actions = env.getHash(), env.getEmptySpaces()\n",
    "        prev_action = agent_to_train.get_action(prev_state, epsilon, len(prev_actions))\n",
    "        observation, reward, done, _ = env.step(prev_actions[prev_action])\n",
    "        cur_state, cur_actions = observation[0], observation[1]\n",
    "        curTurn = env.curTurn\n",
    "        cur_state = ''.join([str(2 - int(n)) for n in cur_state])\n",
    "        while not done:\n",
    "            cur_action = agent_to_train.get_action(cur_state, epsilon, len(cur_actions))\n",
    "            observation, reward, done, _ = env.step(cur_actions[cur_action])\n",
    "            if done: \n",
    "                agent_to_train.update(prev_state, prev_action, -reward * curTurn, None)\n",
    "                agent_to_train.update(cur_state, cur_action, reward * curTurn, None)\n",
    "                break\n",
    "            next_state = observation[0]\n",
    "            curTurn = env.curTurn\n",
    "            if curTurn == -1:\n",
    "                next_state = ''.join([str(2 - int(n)) for n in next_state])  \n",
    "            agent_to_train.update(prev_state, prev_action, reward, next_state)\n",
    "            prev_state, prev_actions = cur_state, cur_actions\n",
    "            cur_state, cur_actions = next_state, observation[1]\n",
    "            prev_action = cur_action\n",
    "    return crosses_winrates, zeros_winrates"
   ]
  },
  {
   "cell_type": "code",
   "execution_count": 16,
   "metadata": {
    "colab": {
     "base_uri": "https://localhost:8080/",
     "height": 312
    },
    "executionInfo": {
     "elapsed": 149399,
     "status": "ok",
     "timestamp": 1608249492106,
     "user": {
      "displayName": "Владимир Клюенков",
      "photoUrl": "https://lh3.googleusercontent.com/a-/AOh14Gi3E1jmbRKzdL-W8NcGqk0e4Qwyp3I42q-L5f7oRw=s64",
      "userId": "00734268605265697696"
     },
     "user_tz": -180
    },
    "id": "xDJvMd9h6f3t",
    "outputId": "ec0eaeb3-12b6-4e7b-b683-751864c0675f"
   },
   "outputs": [
    {
     "name": "stderr",
     "output_type": "stream",
     "text": [
      "100%|██████████| 100000/100000 [01:03<00:00, 1585.41it/s]\n"
     ]
    }
   ],
   "source": [
    "env = TicTacToe(n_rows=3, n_cols=3, n_win=3)\n",
    "agent_q = AgentQ(alpha = 0.1, gamma = 1)\n",
    "agent_r = AgentRandom()\n",
    "crosses_winrates, zeros_winrates = train(env, \n",
    "        agent_q, agent_r,\n",
    "        epsilon_start=0.7, epsilon_min= 0.05 , epsilon_decay=0.999,\n",
    "        train_episodes=100000, eval_period = 5000, eval_episodes = 1000)"
   ]
  },
  {
   "cell_type": "code",
   "execution_count": 33,
   "metadata": {},
   "outputs": [
    {
     "data": {
      "image/png": "[encoded data removed]",
      "text/plain": [
       "<Figure size 432x288 with 1 Axes>"
      ]
     },
     "metadata": {
      "needs_background": "light"
     },
     "output_type": "display_data"
    }
   ],
   "source": [
    "plt.plot([x[0] for x in crosses_winrates], [x[1] for x in crosses_winrates], label='x')\n",
    "plt.plot([x[0] for x in crosses_winrates], [x[1] for x in zeros_winrates], label='o')\n",
    "plt.grid()\n",
    "plt.xlabel(\"episods\")\n",
    "plt.ylabel(\"winrate\")\n",
    "plt.legend()"
   ]
  },
  {
   "cell_type": "code",
   "execution_count": 34,
   "metadata": {},
   "outputs": [
    {
     "name": "stdout",
     "output_type": "stream",
     "text": [
      "Winrate agent(cross):  0.988\n",
      "Winrate agent(zeros):  0.0\n"
     ]
    }
   ],
   "source": [
    "cacucate_winrates(env, agent_q, agent_r, 1000,True);"
   ]
  },
  {
   "cell_type": "code",
   "execution_count": 35,
   "metadata": {},
   "outputs": [
    {
     "name": "stdout",
     "output_type": "stream",
     "text": [
      "Winrate agent(cross):  0.004\n",
      "Winrate agent(zeros):  0.871\n"
     ]
    }
   ],
   "source": [
    "cacucate_winrates(env, agent_r,agent_q, 1000,True);"
   ]
  },
  {
   "cell_type": "markdown",
   "metadata": {},
   "source": [
    "### Board 4x4"
   ]
  },
  {
   "cell_type": "code",
   "execution_count": 26,
   "metadata": {},
   "outputs": [
    {
     "name": "stderr",
     "output_type": "stream",
     "text": [
      "100%|██████████| 2000000/2000000 [39:23<00:00, 846.30it/s]  \n"
     ]
    }
   ],
   "source": [
    "env = TicTacToe(n_rows=4, n_cols=4, n_win=4)\n",
    "agent_q = AgentQ(alpha = 0.1, gamma = 1)\n",
    "agent_r = AgentRandom()\n",
    "crosses_winrates, zeros_winrates = train(env, \n",
    "        agent_q, agent_r,\n",
    "        epsilon_start=0.5, epsilon_min= 0.05 , epsilon_decay=0.9,\n",
    "        train_episodes=2000000, eval_period = 40000, eval_episodes = 1000)"
   ]
  },
  {
   "cell_type": "markdown",
   "metadata": {
    "id": "vY33Hc29a3av"
   },
   "source": [
    "## Часть вторая: добавим нейронных сетей"
   ]
  },
  {
   "cell_type": "markdown",
   "metadata": {
    "id": "xucyXPz5a3ei"
   },
   "source": [
    "Реализуйте нейронную сеть для метода DQN на доске для крестиков-ноликов. Не буду ограничивать фантазию, но кажется, что свёртки 3х3 здесь должны неплохо работать (в том числе обобщаться на доски размера побольше).\n",
    "3. Реализуйте DQN с нейронной сетью, обучите стратегии крестиков и ноликов. Замечание: скорее всего, experience replay потребуется сразу же.\n",
    "4. Реализуйте Double DQN и/или Dueling DQN.\n"
   ]
  },
  {
   "cell_type": "markdown",
   "metadata": {
    "id": "drBq0h2Rb_mR"
   },
   "source": [
    "### 3. Реализуйте DQN с нейронной сетью, обучите стратегии крестиков и ноликов. Замечание: скорее всего, experience replay потребуется сразу же."
   ]
  },
  {
   "cell_type": "code",
   "execution_count": 4,
   "metadata": {},
   "outputs": [],
   "source": [
    "from dqn import *"
   ]
  },
  {
   "cell_type": "code",
   "execution_count": 63,
   "metadata": {
    "colab": {
     "base_uri": "https://localhost:8080/"
    },
    "executionInfo": {
     "elapsed": 1179173,
     "status": "ok",
     "timestamp": 1608250904631,
     "user": {
      "displayName": "Владимир Клюенков",
      "photoUrl": "https://lh3.googleusercontent.com/a-/AOh14Gi3E1jmbRKzdL-W8NcGqk0e4Qwyp3I42q-L5f7oRw=s64",
      "userId": "00734268605265697696"
     },
     "user_tz": -180
    },
    "id": "hMC7ec-43bTt",
    "outputId": "4363359e-3309-46c7-af78-7c434c19bd9d"
   },
   "outputs": [
    {
     "name": "stderr",
     "output_type": "stream",
     "text": [
      "100%|██████████| 1000/1000 [07:04<00:00,  2.36it/s]\n"
     ]
    }
   ],
   "source": [
    "env = TicTacToe(n_rows=3, n_cols=3, n_win=3)\n",
    "dqn = DQN(env)\n",
    "for episode in tqdm(range(1000)):\n",
    "    dqn.run_episode(episode)\n",
    "    dqn.validate_against_random_agent_with_winrate(500)"
   ]
  },
  {
   "cell_type": "code",
   "execution_count": 64,
   "metadata": {
    "colab": {
     "base_uri": "https://localhost:8080/",
     "height": 312
    },
    "executionInfo": {
     "elapsed": 48,
     "status": "ok",
     "timestamp": 1608250904635,
     "user": {
      "displayName": "Владимир Клюенков",
      "photoUrl": "https://lh3.googleusercontent.com/a-/AOh14Gi3E1jmbRKzdL-W8NcGqk0e4Qwyp3I42q-L5f7oRw=s64",
      "userId": "00734268605265697696"
     },
     "user_tz": -180
    },
    "id": "I53yf3LiHEP4",
    "outputId": "c0d0c93a-c904-416d-8f20-1dcb572dc8bb"
   },
   "outputs": [
    {
     "data": {
      "image/png": "[encoded data removed]",
      "text/plain": [
       "<Figure size 432x288 with 1 Axes>"
      ]
     },
     "metadata": {
      "needs_background": "light"
     },
     "output_type": "display_data"
    }
   ],
   "source": [
    "plt.plot(dqn.winrates)\n",
    "\n",
    "plt.grid()\n",
    "plt.xlabel(\"train episod\")\n",
    "plt.ylabel(\"winrate\")\n",
    "\n",
    "plt.title(f\"DQN against random agent mean for 1000 games\");"
   ]
  },
  {
   "cell_type": "markdown",
   "metadata": {
    "id": "SB-Ycm8OH39k"
   },
   "source": [
    "### DQN vs AgentRandom"
   ]
  },
  {
   "cell_type": "code",
   "execution_count": 29,
   "metadata": {
    "colab": {
     "base_uri": "https://localhost:8080/"
    },
    "executionInfo": {
     "elapsed": 22048,
     "status": "ok",
     "timestamp": 1608250926654,
     "user": {
      "displayName": "Владимир Клюенков",
      "photoUrl": "https://lh3.googleusercontent.com/a-/AOh14Gi3E1jmbRKzdL-W8NcGqk0e4Qwyp3I42q-L5f7oRw=s64",
      "userId": "00734268605265697696"
     },
     "user_tz": -180
    },
    "id": "qzxmnfP7S9AH",
    "outputId": "0b9e99c3-e257-4df2-f90b-f2767fc2cd1b"
   },
   "outputs": [
    {
     "name": "stdout",
     "output_type": "stream",
     "text": [
      "Winrate agent(cross):  0.625\n",
      "Winrate agent(zeros):  0.284\n",
      "CPU times: user 859 ms, sys: 2.39 ms, total: 862 ms\n",
      "Wall time: 861 ms\n"
     ]
    }
   ],
   "source": [
    "%%time\n",
    "crosses_winrate, zeros_winrate = cacucate_winrates(env,\n",
    "                                                   dqn,\n",
    "                                                   AgentRandom(), \n",
    "                                                   1000,\n",
    "                                                  True)"
   ]
  },
  {
   "cell_type": "code",
   "execution_count": 30,
   "metadata": {},
   "outputs": [
    {
     "name": "stdout",
     "output_type": "stream",
     "text": [
      "Winrate agent(cross):  0.671\n",
      "Winrate agent(zeros):  0.288\n"
     ]
    }
   ],
   "source": [
    "crosses_winrate, zeros_winrate = cacucate_winrates(env,\n",
    "                                                   AgentRandom(), \n",
    "                                                   dqn,\n",
    "                                                   1000,\n",
    "                                                  True)"
   ]
  },
  {
   "cell_type": "markdown",
   "metadata": {},
   "source": [
    "### DQN vs AgentQ"
   ]
  },
  {
   "cell_type": "code",
   "execution_count": 31,
   "metadata": {
    "colab": {
     "base_uri": "https://localhost:8080/"
    },
    "executionInfo": {
     "elapsed": 21332,
     "status": "ok",
     "timestamp": 1608250947968,
     "user": {
      "displayName": "Владимир Клюенков",
      "photoUrl": "https://lh3.googleusercontent.com/a-/AOh14Gi3E1jmbRKzdL-W8NcGqk0e4Qwyp3I42q-L5f7oRw=s64",
      "userId": "00734268605265697696"
     },
     "user_tz": -180
    },
    "id": "ucHQlt7YE21E",
    "outputId": "ceeadcd5-ef66-4a44-f5c8-a82394ab85d5"
   },
   "outputs": [
    {
     "name": "stdout",
     "output_type": "stream",
     "text": [
      "Winrate agent(cross):  0.0\n",
      "Winrate agent(zeros):  1.0\n",
      "CPU times: user 653 ms, sys: 2.13 ms, total: 655 ms\n",
      "Wall time: 655 ms\n"
     ]
    }
   ],
   "source": [
    "%%time\n",
    "crosses_winrate, zeros_winrate = cacucate_winrates(env,\n",
    "                                                   dqn, \n",
    "                                                   agent_q,\n",
    "                                                   1000,\n",
    "                                                   True,)"
   ]
  },
  {
   "cell_type": "code",
   "execution_count": 32,
   "metadata": {},
   "outputs": [
    {
     "name": "stdout",
     "output_type": "stream",
     "text": [
      "Winrate agent(cross):  1.0\n",
      "Winrate agent(zeros):  0.0\n",
      "CPU times: user 487 ms, sys: 2.08 ms, total: 489 ms\n",
      "Wall time: 489 ms\n"
     ]
    }
   ],
   "source": [
    "%%time\n",
    "crosses_winrate, zeros_winrate = cacucate_winrates(env,\n",
    "                                                   agent_q, \n",
    "                                                   dqn,\n",
    "                                                   1000,\n",
    "                                                   True,)"
   ]
  },
  {
   "cell_type": "code",
   "execution_count": 143,
   "metadata": {},
   "outputs": [
    {
     "name": "stderr",
     "output_type": "stream",
     "text": [
      "100%|██████████| 1000/1000 [00:20<00:00, 47.99it/s]\n"
     ]
    }
   ],
   "source": [
    "env = TicTacToe(n_rows=4, n_cols=4, n_win=4)\n",
    "dqn = DQN(env)\n",
    "for episode in tqdm(range(1000)):\n",
    "    dqn.run_episode(episode)\n",
    "    dqn.validate_against_random_agent_with_winrate(500)"
   ]
  },
  {
   "cell_type": "code",
   "execution_count": 61,
   "metadata": {},
   "outputs": [
    {
     "data": {
      "image/png": "[encoded data removed]",
      "text/plain": [
       "<Figure size 432x288 with 1 Axes>"
      ]
     },
     "metadata": {
      "needs_background": "light"
     },
     "output_type": "display_data"
    }
   ],
   "source": [
    "plt.plot(dqn.winrates)\n",
    "\n",
    "plt.grid()\n",
    "plt.xlabel(\"episods\")\n",
    "plt.ylabel(\"winrate\")\n",
    "\n",
    "plt.title(f\"DQN and random  mean for 1000 games, board 4x4 \");"
   ]
  },
  {
   "cell_type": "code",
   "execution_count": 38,
   "metadata": {},
   "outputs": [
    {
     "name": "stdout",
     "output_type": "stream",
     "text": [
      "Winrate agent(cross):  0.735\n",
      "Winrate agent(zeros):  0.172\n",
      "CPU times: user 1.34 s, sys: 4.31 ms, total: 1.35 s\n",
      "Wall time: 1.35 s\n"
     ]
    }
   ],
   "source": [
    "%%time\n",
    "crosses_winrate, zeros_winrate = cacucate_winrates(env,\n",
    "                                                   dqn, \n",
    "                                                   AgentRandom(),\n",
    "                                                   1000,\n",
    "                                                   True,)"
   ]
  },
  {
   "cell_type": "code",
   "execution_count": 39,
   "metadata": {},
   "outputs": [
    {
     "name": "stdout",
     "output_type": "stream",
     "text": [
      "Winrate agent(cross):  0.189\n",
      "Winrate agent(zeros):  0.349\n",
      "CPU times: user 1.83 s, sys: 4.66 ms, total: 1.84 s\n",
      "Wall time: 1.84 s\n"
     ]
    }
   ],
   "source": [
    "%%time\n",
    "crosses_winrate, zeros_winrate = cacucate_winrates(env,\n",
    "                                                   AgentRandom(), \n",
    "                                                   dqn,\n",
    "                                                   1000,\n",
    "                                                   True,)"
   ]
  },
  {
   "cell_type": "markdown",
   "metadata": {
    "id": "aob0_2x-cCJh"
   },
   "source": [
    "## Реализуйте Double DQN и/или Dueling DQN."
   ]
  },
  {
   "cell_type": "code",
   "execution_count": null,
   "metadata": {},
   "outputs": [],
   "source": []
  },
  {
   "cell_type": "markdown",
   "metadata": {},
   "source": [
    "# Часть третья: расширим и углубим поиск"
   ]
  },
  {
   "cell_type": "code",
   "execution_count": 136,
   "metadata": {},
   "outputs": [],
   "source": [
    "class MCTSNode():\n",
    "\n",
    "    def __init__(self, env, board, parent_node=None):\n",
    "        self.env = TicTacToe(env.n_rows, env.n_cols, env.n_win)\n",
    "        self.env.board = copy.deepcopy(board)\n",
    "        self.parent = parent_node\n",
    "        self.children = []\n",
    "        self.n = 0\n",
    "        self.reward = 0\n",
    "        self.actions = list(self.env.getEmptySpaces())\n",
    "        self.env.isTerminal()\n",
    "\n",
    "    def find_best_children(self, c_parameters=1):\n",
    "        weights = list(map(lambda node: -node.reward / node.n + c_parameters * np.sqrt((np.log(self.n) / node.n)),\n",
    "                           self.children)) \n",
    "        return np.argmax(weights)\n",
    "\n",
    "        \n",
    "    def rollout(self):\n",
    "        rollout_env = TicTacToe(self.env.n_rows, self.env.n_cols, self.env.n_win)\n",
    "        rollout_env.board = copy.deepcopy(self.env.board)\n",
    "        rollout_env.curTurn = self.env.curTurn\n",
    "#         rollout_env = copy.deepcopy(self.env)\n",
    "        reward = rollout_env.isTerminal()\n",
    "        gameOver = rollout_env.gameOver\n",
    "        random_actions = list(np.random.permutation(rollout_env.getEmptySpaces()))\n",
    "        while not gameOver:\n",
    "            action = random_actions.pop()\n",
    "            _, reward, gameOver, _ = rollout_env.step(action)\n",
    "        return reward * self.env.curTurn\n",
    "\n",
    "\n",
    "    def expand(self):\n",
    "        action = self.actions.pop(0)\n",
    "        next_env = copy.deepcopy(self.env.board)\n",
    "        next_env[action[0], action[1]] = self.env.curTurn\n",
    "        child_node = MCTSNode(self.env, next_env, parent_node=self)\n",
    "        child_node.env.curTurn = -self.env.curTurn\n",
    "        self.children.append(child_node)\n",
    "        return child_node\n",
    "\n",
    "    def backprop(self, reward):\n",
    "        self.n += 1.\n",
    "        self.reward += reward\n",
    "        if self.parent:\n",
    "            self.parent.backprop(-reward)"
   ]
  },
  {
   "cell_type": "code",
   "execution_count": 141,
   "metadata": {},
   "outputs": [],
   "source": [
    "class AgentMCTS(object):\n",
    "    def __init__(self, env, num_of_trees):\n",
    "        self.env = env\n",
    "        self.num_of_trees = num_of_trees\n",
    "        \n",
    "        \n",
    "    def explotation_action(self, s, n_actions, env = None):\n",
    "        board = np.array([float(n) for n in s]).reshape((self.env.n_rows, self.env.n_cols)) - 1\n",
    "        root_node = MCTSNode(self.env, board)\n",
    "        for _ in range(self.num_of_trees):            \n",
    "            node = root_node\n",
    "            while not node.env.gameOver:\n",
    "                if len(node.actions) > 0:\n",
    "                    node = node.expand()\n",
    "                else:\n",
    "                    node = node.children[node.find_best_children()]\n",
    "            reward = node.rollout()\n",
    "            node.backprop(reward)\n",
    "        return env.getEmptySpaces()[root_node.find_best_children(c_parameters=0)]"
   ]
  },
  {
   "cell_type": "markdown",
   "metadata": {},
   "source": [
    "### MCTS VS Random"
   ]
  },
  {
   "cell_type": "code",
   "execution_count": 48,
   "metadata": {},
   "outputs": [
    {
     "name": "stderr",
     "output_type": "stream",
     "text": [
      "100%|██████████| 10000/10000 [19:48<00:00,  8.41it/s]"
     ]
    },
    {
     "name": "stdout",
     "output_type": "stream",
     "text": [
      "Winrate agent(cross):  0.9734\n",
      "Winrate agent(zeros):  0.0001\n"
     ]
    },
    {
     "name": "stderr",
     "output_type": "stream",
     "text": [
      "\n"
     ]
    }
   ],
   "source": [
    "env = TicTacToe(n_rows=3, n_cols=3, n_win=3)\n",
    "agent_m = AgentMCTS(env, num_of_trees=100)\n",
    "agent_r = AgentRandom() \n",
    "crosses_winrate, zeros_winrate = cacucate_winrates(env, agent_m, agent_r,prt=True)"
   ]
  },
  {
   "cell_type": "code",
   "execution_count": 56,
   "metadata": {},
   "outputs": [
    {
     "name": "stderr",
     "output_type": "stream",
     "text": [
      "100%|██████████| 10000/10000 [16:23<00:00, 10.17it/s]"
     ]
    },
    {
     "name": "stdout",
     "output_type": "stream",
     "text": [
      "Winrate agent(cross):  0.3773\n",
      "Winrate agent(zeros):  0.5472\n"
     ]
    },
    {
     "name": "stderr",
     "output_type": "stream",
     "text": [
      "\n"
     ]
    }
   ],
   "source": [
    "env = TicTacToe(n_rows=3, n_cols=3, n_win=3)\n",
    "agent_m = AgentMCTS(env, num_of_trees=100)\n",
    "agent_r = AgentRandom() \n",
    "crosses_winrate, zeros_winrate = cacucate_winrates(env, agent_r, agent_m, prt=True)"
   ]
  },
  {
   "cell_type": "markdown",
   "metadata": {},
   "source": [
    "### MCTS VS Qlearn"
   ]
  },
  {
   "cell_type": "code",
   "execution_count": 58,
   "metadata": {},
   "outputs": [
    {
     "name": "stderr",
     "output_type": "stream",
     "text": [
      "100%|██████████| 10000/10000 [22:08<00:00,  7.53it/s]"
     ]
    },
    {
     "name": "stdout",
     "output_type": "stream",
     "text": [
      "Winrate agent(cross):  1.0\n",
      "Winrate agent(zeros):  0.0\n"
     ]
    },
    {
     "name": "stderr",
     "output_type": "stream",
     "text": [
      "\n"
     ]
    }
   ],
   "source": [
    "env = TicTacToe(n_rows=3, n_cols=3, n_win=3)\n",
    "agent_m = AgentMCTS(env, num_of_trees=100)\n",
    "agent_q = AgentQ(alpha = 0.1, gamma = 1)\n",
    "crosses_winrate, zeros_winrate = cacucate_winrates(env, agent_m, agent_q,prt=True)"
   ]
  },
  {
   "cell_type": "code",
   "execution_count": 59,
   "metadata": {},
   "outputs": [
    {
     "name": "stderr",
     "output_type": "stream",
     "text": [
      "100%|██████████| 10000/10000 [14:18<00:00, 11.65it/s]"
     ]
    },
    {
     "name": "stdout",
     "output_type": "stream",
     "text": [
      "Winrate agent(cross):  0.3659\n",
      "Winrate agent(zeros):  0.6341\n"
     ]
    },
    {
     "name": "stderr",
     "output_type": "stream",
     "text": [
      "\n"
     ]
    }
   ],
   "source": [
    "env = TicTacToe(n_rows=3, n_cols=3, n_win=3)\n",
    "agent_m = AgentMCTS(env, num_of_trees=100)\n",
    "agent_q = AgentQ(alpha = 0.1, gamma = 1)\n",
    "crosses_winrate, zeros_winrate = cacucate_winrates(env, agent_q, agent_m,prt=True)"
   ]
  },
  {
   "cell_type": "markdown",
   "metadata": {},
   "source": [
    "### MCTS VS DQN"
   ]
  },
  {
   "cell_type": "code",
   "execution_count": 66,
   "metadata": {},
   "outputs": [
    {
     "name": "stderr",
     "output_type": "stream",
     "text": [
      "100%|██████████| 10000/10000 [18:11<00:00,  9.17it/s]"
     ]
    },
    {
     "name": "stdout",
     "output_type": "stream",
     "text": [
      "Winrate agent(cross):  1.0\n",
      "Winrate agent(zeros):  0.0\n"
     ]
    },
    {
     "name": "stderr",
     "output_type": "stream",
     "text": [
      "\n"
     ]
    }
   ],
   "source": [
    "env = TicTacToe(n_rows=3, n_cols=3, n_win=3)\n",
    "agent_m = AgentMCTS(env, num_of_trees=100)\n",
    "crosses_winrate, zeros_winrate = cacucate_winrates(env, agent_m, dqn,prt=True)"
   ]
  },
  {
   "cell_type": "code",
   "execution_count": 67,
   "metadata": {},
   "outputs": [
    {
     "name": "stderr",
     "output_type": "stream",
     "text": [
      "100%|██████████| 10000/10000 [13:24<00:00, 12.44it/s]"
     ]
    },
    {
     "name": "stdout",
     "output_type": "stream",
     "text": [
      "Winrate agent(cross):  0.6142\n",
      "Winrate agent(zeros):  0.3729\n"
     ]
    },
    {
     "name": "stderr",
     "output_type": "stream",
     "text": [
      "\n"
     ]
    }
   ],
   "source": [
    "env = TicTacToe(n_rows=3, n_cols=3, n_win=3)\n",
    "agent_m = AgentMCTS(env, num_of_trees=100)\n",
    "agent_q = AgentQ(alpha = 0.1, gamma = 1)\n",
    "crosses_winrate, zeros_winrate = cacucate_winrates(env, dqn, agent_m,prt=True)"
   ]
  }
 ],
 "metadata": {
  "colab": {
   "authorship_tag": "ABX9TyN6Bp0ZxO1lFlHSRU0Cqkur",
   "collapsed_sections": [],
   "name": "Copy of after_dedline.ipynb",
   "provenance": [
    {
     "file_id": "1qcz5kHoRCA4OeQz5qbcWj7_U50ly_o9B",
     "timestamp": 1608251679954
    },
    {
     "file_id": "14kKzC8W9Fv5molucNX_N-dC4PRm0Hxlf",
     "timestamp": 1608211504505
    }
   ]
  },
  "kernelspec": {
   "display_name": "Python 3",
   "language": "python",
   "name": "python3"
  },
  "language_info": {
   "codemirror_mode": {
    "name": "ipython",
    "version": 3
   },
   "file_extension": ".py",
   "mimetype": "text/x-python",
   "name": "python",
   "nbconvert_exporter": "python",
   "pygments_lexer": "ipython3",
   "version": "3.8.8"
  }
 },
 "nbformat": 4,
 "nbformat_minor": 4
}
